{
 "cells": [
  {
   "cell_type": "markdown",
   "metadata": {},
   "source": [
    "# Welcome to Python using Jupyter Notebook"
   ]
  },
  {
   "cell_type": "markdown",
   "metadata": {},
   "source": [
    "## Install Python packages (optional)\n",
    "\n",
    "\n",
    "```\n",
    "$ pip install beautifulsoup4\n",
    "$ pip install matplotlib\n",
    "$ pip install nltk\n",
    "$ pip install pandas\n",
    "$ pip install requests\n",
    "$ pip install scipy\n",
    "$ pip install seaborn\n",
    "```"
   ]
  },
  {
   "cell_type": "markdown",
   "metadata": {},
   "source": [
    "## Command and Edit Mode"
   ]
  },
  {
   "cell_type": "markdown",
   "metadata": {},
   "source": [
    "The first thing you need to know is how to switch between Command and Edit modes.\n",
    "\n",
    "Press `Esc` to enable the `Command` mode. Notice the bar on the left of the cell is <font color='blue'> BLUE</font>.\n",
    "\n",
    "Press `Enter` to enable the `Edit` mode. Notice the bar on the left of the cell is <font color='green'> GREEN</font>."
   ]
  },
  {
   "cell_type": "markdown",
   "metadata": {},
   "source": [
    "You can find the keyboard shortcuts from the tool bar in the top of this page, `Help->Keyboard Shortcuts`. Here, we will introduce some of them that used more frequently. Note that you can add to these shortcuts using a few lines of code in JavaScript.\n",
    "\n",
    "You might have noticed that when you press `Enter` on a cell, or double-click on it, you can see the cell before it is run.\n",
    "If you click outside of cells, you enable the Command mode."
   ]
  },
  {
   "cell_type": "code",
   "execution_count": 3,
   "metadata": {},
   "outputs": [
    {
     "name": "stdout",
     "output_type": "stream",
     "text": [
      "Hello ISDS 3107!\n"
     ]
    }
   ],
   "source": [
    "print(\"Hello ISDS 3107!\")"
   ]
  },
  {
   "cell_type": "markdown",
   "metadata": {},
   "source": [
    "## Run a Cell "
   ]
  },
  {
   "cell_type": "markdown",
   "metadata": {},
   "source": [
    "In order to run a cell \n",
    "- You can click on `Cell` on the top bar and then choose `Run Cells`.\n",
    "- You can also press the play button on the top of this page.\n",
    "- The shortcut to run a cell is `Shift+Enter`.\n",
    "\n",
    "Try to run the above cells, so you can see how they look after compilation."
   ]
  },
  {
   "cell_type": "markdown",
   "metadata": {},
   "source": [
    "## Cell Types "
   ]
  },
  {
   "cell_type": "markdown",
   "metadata": {},
   "source": [
    "There are two types of cell: **Markdown** and **Code**\n",
    "\n",
    "Cell Type by default is code. To select the Markdown:\n",
    "\n",
    "- Click on `Cell->Cell Type->Markdown`\n",
    "- Press `M` in the command mode. The selected cell type changes to markdown.\n",
    "\n",
    "All the above cells have Markdown type. Markdown is a language with plain text formatting syntax. You can find the documentation [here](http://jupyter-notebook.readthedocs.io/en/stable/examples/Notebook/Working%20With%20Markdown%20Cells.html).\n",
    "\n",
    "Edit and run the following cell and try to interpret the syntax."
   ]
  },
  {
   "cell_type": "markdown",
   "metadata": {},
   "source": []
  },
  {
   "cell_type": "markdown",
   "metadata": {},
   "source": [
    "## H2\n",
    "### H3\n",
    "Emphasis, aka italics, with *asterisks* or _underscores_.\n",
    "\n",
    "Strong emphasis, aka bold, with **asterisks** or __underscores__.\n",
    "\n",
    "This is the [link](http://jupyter-notebook.readthedocs.io/en/stable/examples/Notebook/Working%20With%20Markdown%20Cells.html) to the documentation.\n",
    "\n",
    "1. First ordered list item\n",
    "2. Another item  \n",
    " - bullet\n",
    " \n",
    "| This | is   |\n",
    "|------|------|\n",
    "|   a  | table|"
   ]
  },
  {
   "cell_type": "markdown",
   "metadata": {},
   "source": [
    "To write formulas, you can use LaTeX expressions:\n",
    "\n",
    "Expressions can be added by surrounding the latex code with `$`: $e^{i\\pi} + 1 = 0$\n",
    "\n",
    "$$e^x=\\sum_{i=0}^\\infty \\frac{1}{i!}x^i$$"
   ]
  },
  {
   "cell_type": "markdown",
   "metadata": {},
   "source": [
    "## Code"
   ]
  },
  {
   "cell_type": "markdown",
   "metadata": {},
   "source": [
    "### this is markdown"
   ]
  },
  {
   "cell_type": "code",
   "execution_count": 4,
   "metadata": {
    "hideOutput": true,
    "hidePrompt": false
   },
   "outputs": [
    {
     "name": "stdout",
     "output_type": "stream",
     "text": [
      "Python rocks!\n"
     ]
    }
   ],
   "source": [
    "print(\"Python rocks!\") # this is a code cell"
   ]
  },
  {
   "cell_type": "markdown",
   "metadata": {},
   "source": [
    "The above cell type is code. As you see in the left of this cell, it is written `In[]`. If you execute the cell, you can see `In[*]` which means the cell is running. When the execution finished (run or error) you will see a number instead of the `*`."
   ]
  },
  {
   "cell_type": "code",
   "execution_count": 5,
   "metadata": {
    "hidePrompt": false
   },
   "outputs": [],
   "source": [
    "x = 4\n",
    "y = 10"
   ]
  },
  {
   "cell_type": "code",
   "execution_count": 6,
   "metadata": {
    "hideOutput": true,
    "hidePrompt": false
   },
   "outputs": [
    {
     "data": {
      "text/plain": [
       "1920"
      ]
     },
     "execution_count": 6,
     "metadata": {},
     "output_type": "execute_result"
    }
   ],
   "source": [
    "y * x * x * 12"
   ]
  },
  {
   "cell_type": "markdown",
   "metadata": {},
   "source": [
    "As you see the variables exist between cells."
   ]
  },
  {
   "cell_type": "code",
   "execution_count": 7,
   "metadata": {},
   "outputs": [
    {
     "name": "stdout",
     "output_type": "stream",
     "text": [
      "40\n"
     ]
    }
   ],
   "source": [
    "print(y*x)"
   ]
  },
  {
   "cell_type": "code",
   "execution_count": null,
   "metadata": {},
   "outputs": [],
   "source": []
  }
 ],
 "metadata": {
  "kernelspec": {
   "display_name": "Python 3",
   "language": "python",
   "name": "python3"
  },
  "language_info": {
   "codemirror_mode": {
    "name": "ipython",
    "version": 3
   },
   "file_extension": ".py",
   "mimetype": "text/x-python",
   "name": "python",
   "nbconvert_exporter": "python",
   "pygments_lexer": "ipython3",
   "version": "3.6.3"
  }
 },
 "nbformat": 4,
 "nbformat_minor": 2
}
